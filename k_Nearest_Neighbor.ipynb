{
  "nbformat": 4,
  "nbformat_minor": 0,
  "metadata": {
    "colab": {
      "provenance": []
    },
    "kernelspec": {
      "name": "python3",
      "display_name": "Python 3"
    },
    "language_info": {
      "name": "python"
    }
  },
  "cells": [
    {
      "cell_type": "markdown",
      "source": [
        "Avaliação de Desempenho do Modelo Através de Engenharia de Features\n"
      ],
      "metadata": {
        "id": "Gid34CNHkYjz"
      }
    },
    {
      "cell_type": "markdown",
      "source": [
        "Utilização do k-Nearest Neighbor para verificar o desempenho do algoritmo de acordo com a engenharia de features empregada."
      ],
      "metadata": {
        "id": "RdrOK4t4mQS9"
      }
    },
    {
      "cell_type": "code",
      "execution_count": null,
      "metadata": {
        "id": "VXB2PyCjkWzO",
        "colab": {
          "base_uri": "https://localhost:8080/",
          "height": 443
        },
        "outputId": "75d28323-8a36-479e-94c3-7e748d22499c"
      },
      "outputs": [
        {
          "output_type": "execute_result",
          "data": {
            "text/plain": [
              "     0   1        2        3        4        5        6        7        8   \\\n",
              "0     1   0  0.99539 -0.05889  0.85243  0.02306  0.83398 -0.37708  1.00000   \n",
              "1     1   0  1.00000 -0.18829  0.93035 -0.36156 -0.10868 -0.93597  1.00000   \n",
              "2     1   0  1.00000 -0.03365  1.00000  0.00485  1.00000 -0.12062  0.88965   \n",
              "3     1   0  1.00000 -0.45161  1.00000  1.00000  0.71216 -1.00000  0.00000   \n",
              "4     1   0  1.00000 -0.02401  0.94140  0.06531  0.92106 -0.23255  0.77152   \n",
              "..   ..  ..      ...      ...      ...      ...      ...      ...      ...   \n",
              "346   1   0  0.83508  0.08298  0.73739 -0.14706  0.84349 -0.05567  0.90441   \n",
              "347   1   0  0.95113  0.00419  0.95183 -0.02723  0.93438 -0.01920  0.94590   \n",
              "348   1   0  0.94701 -0.00034  0.93207 -0.03227  0.95177 -0.03431  0.95584   \n",
              "349   1   0  0.90608 -0.01657  0.98122 -0.01989  0.95691 -0.03646  0.85746   \n",
              "350   1   0  0.84710  0.13533  0.73638 -0.06151  0.87873  0.08260  0.88928   \n",
              "\n",
              "          9   ...       25       26       27       28       29       30  \\\n",
              "0    0.03760  ... -0.51171  0.41078 -0.46168  0.21266 -0.34090  0.42267   \n",
              "1   -0.04549  ... -0.26569 -0.20468 -0.18401 -0.19040 -0.11593 -0.16626   \n",
              "2    0.01198  ... -0.40220  0.58984 -0.22145  0.43100 -0.17365  0.60436   \n",
              "3    0.00000  ...  0.90695  0.51613  1.00000  1.00000 -0.20099  0.25682   \n",
              "4   -0.16399  ... -0.65158  0.13290 -0.53206  0.02431 -0.62197 -0.05707   \n",
              "..       ...  ...      ...      ...      ...      ...      ...      ...   \n",
              "346 -0.04622  ... -0.04202  0.83479  0.00123  1.00000  0.12815  0.86660   \n",
              "347  0.01606  ...  0.01361  0.93522  0.04925  0.93159  0.08168  0.94066   \n",
              "348  0.02446  ...  0.03193  0.92489  0.02542  0.92120  0.02242  0.92459   \n",
              "349  0.00110  ... -0.02099  0.89147 -0.07760  0.82983 -0.17238  0.96022   \n",
              "350 -0.09139  ... -0.15114  0.81147 -0.04822  0.78207 -0.00703  0.75747   \n",
              "\n",
              "          31       32       33  34  \n",
              "0   -0.54487  0.18641 -0.45300   g  \n",
              "1   -0.06288 -0.13738 -0.02447   b  \n",
              "2   -0.24180  0.56045 -0.38238   g  \n",
              "3    1.00000 -0.32382  1.00000   b  \n",
              "4   -0.59573 -0.04608 -0.65697   g  \n",
              "..       ...      ...      ...  ..  \n",
              "346 -0.10714  0.90546 -0.04307   g  \n",
              "347 -0.00035  0.91483  0.04712   g  \n",
              "348  0.00442  0.92697 -0.00577   g  \n",
              "349 -0.03757  0.87403 -0.16243   g  \n",
              "350 -0.06678  0.85764 -0.06151   g  \n",
              "\n",
              "[351 rows x 35 columns]"
            ],
            "text/html": [
              "\n",
              "  <div id=\"df-c63e2ecf-8bf6-4db3-8abd-3c5914f189c6\" class=\"colab-df-container\">\n",
              "    <div>\n",
              "<style scoped>\n",
              "    .dataframe tbody tr th:only-of-type {\n",
              "        vertical-align: middle;\n",
              "    }\n",
              "\n",
              "    .dataframe tbody tr th {\n",
              "        vertical-align: top;\n",
              "    }\n",
              "\n",
              "    .dataframe thead th {\n",
              "        text-align: right;\n",
              "    }\n",
              "</style>\n",
              "<table border=\"1\" class=\"dataframe\">\n",
              "  <thead>\n",
              "    <tr style=\"text-align: right;\">\n",
              "      <th></th>\n",
              "      <th>0</th>\n",
              "      <th>1</th>\n",
              "      <th>2</th>\n",
              "      <th>3</th>\n",
              "      <th>4</th>\n",
              "      <th>5</th>\n",
              "      <th>6</th>\n",
              "      <th>7</th>\n",
              "      <th>8</th>\n",
              "      <th>9</th>\n",
              "      <th>...</th>\n",
              "      <th>25</th>\n",
              "      <th>26</th>\n",
              "      <th>27</th>\n",
              "      <th>28</th>\n",
              "      <th>29</th>\n",
              "      <th>30</th>\n",
              "      <th>31</th>\n",
              "      <th>32</th>\n",
              "      <th>33</th>\n",
              "      <th>34</th>\n",
              "    </tr>\n",
              "  </thead>\n",
              "  <tbody>\n",
              "    <tr>\n",
              "      <th>0</th>\n",
              "      <td>1</td>\n",
              "      <td>0</td>\n",
              "      <td>0.99539</td>\n",
              "      <td>-0.05889</td>\n",
              "      <td>0.85243</td>\n",
              "      <td>0.02306</td>\n",
              "      <td>0.83398</td>\n",
              "      <td>-0.37708</td>\n",
              "      <td>1.00000</td>\n",
              "      <td>0.03760</td>\n",
              "      <td>...</td>\n",
              "      <td>-0.51171</td>\n",
              "      <td>0.41078</td>\n",
              "      <td>-0.46168</td>\n",
              "      <td>0.21266</td>\n",
              "      <td>-0.34090</td>\n",
              "      <td>0.42267</td>\n",
              "      <td>-0.54487</td>\n",
              "      <td>0.18641</td>\n",
              "      <td>-0.45300</td>\n",
              "      <td>g</td>\n",
              "    </tr>\n",
              "    <tr>\n",
              "      <th>1</th>\n",
              "      <td>1</td>\n",
              "      <td>0</td>\n",
              "      <td>1.00000</td>\n",
              "      <td>-0.18829</td>\n",
              "      <td>0.93035</td>\n",
              "      <td>-0.36156</td>\n",
              "      <td>-0.10868</td>\n",
              "      <td>-0.93597</td>\n",
              "      <td>1.00000</td>\n",
              "      <td>-0.04549</td>\n",
              "      <td>...</td>\n",
              "      <td>-0.26569</td>\n",
              "      <td>-0.20468</td>\n",
              "      <td>-0.18401</td>\n",
              "      <td>-0.19040</td>\n",
              "      <td>-0.11593</td>\n",
              "      <td>-0.16626</td>\n",
              "      <td>-0.06288</td>\n",
              "      <td>-0.13738</td>\n",
              "      <td>-0.02447</td>\n",
              "      <td>b</td>\n",
              "    </tr>\n",
              "    <tr>\n",
              "      <th>2</th>\n",
              "      <td>1</td>\n",
              "      <td>0</td>\n",
              "      <td>1.00000</td>\n",
              "      <td>-0.03365</td>\n",
              "      <td>1.00000</td>\n",
              "      <td>0.00485</td>\n",
              "      <td>1.00000</td>\n",
              "      <td>-0.12062</td>\n",
              "      <td>0.88965</td>\n",
              "      <td>0.01198</td>\n",
              "      <td>...</td>\n",
              "      <td>-0.40220</td>\n",
              "      <td>0.58984</td>\n",
              "      <td>-0.22145</td>\n",
              "      <td>0.43100</td>\n",
              "      <td>-0.17365</td>\n",
              "      <td>0.60436</td>\n",
              "      <td>-0.24180</td>\n",
              "      <td>0.56045</td>\n",
              "      <td>-0.38238</td>\n",
              "      <td>g</td>\n",
              "    </tr>\n",
              "    <tr>\n",
              "      <th>3</th>\n",
              "      <td>1</td>\n",
              "      <td>0</td>\n",
              "      <td>1.00000</td>\n",
              "      <td>-0.45161</td>\n",
              "      <td>1.00000</td>\n",
              "      <td>1.00000</td>\n",
              "      <td>0.71216</td>\n",
              "      <td>-1.00000</td>\n",
              "      <td>0.00000</td>\n",
              "      <td>0.00000</td>\n",
              "      <td>...</td>\n",
              "      <td>0.90695</td>\n",
              "      <td>0.51613</td>\n",
              "      <td>1.00000</td>\n",
              "      <td>1.00000</td>\n",
              "      <td>-0.20099</td>\n",
              "      <td>0.25682</td>\n",
              "      <td>1.00000</td>\n",
              "      <td>-0.32382</td>\n",
              "      <td>1.00000</td>\n",
              "      <td>b</td>\n",
              "    </tr>\n",
              "    <tr>\n",
              "      <th>4</th>\n",
              "      <td>1</td>\n",
              "      <td>0</td>\n",
              "      <td>1.00000</td>\n",
              "      <td>-0.02401</td>\n",
              "      <td>0.94140</td>\n",
              "      <td>0.06531</td>\n",
              "      <td>0.92106</td>\n",
              "      <td>-0.23255</td>\n",
              "      <td>0.77152</td>\n",
              "      <td>-0.16399</td>\n",
              "      <td>...</td>\n",
              "      <td>-0.65158</td>\n",
              "      <td>0.13290</td>\n",
              "      <td>-0.53206</td>\n",
              "      <td>0.02431</td>\n",
              "      <td>-0.62197</td>\n",
              "      <td>-0.05707</td>\n",
              "      <td>-0.59573</td>\n",
              "      <td>-0.04608</td>\n",
              "      <td>-0.65697</td>\n",
              "      <td>g</td>\n",
              "    </tr>\n",
              "    <tr>\n",
              "      <th>...</th>\n",
              "      <td>...</td>\n",
              "      <td>...</td>\n",
              "      <td>...</td>\n",
              "      <td>...</td>\n",
              "      <td>...</td>\n",
              "      <td>...</td>\n",
              "      <td>...</td>\n",
              "      <td>...</td>\n",
              "      <td>...</td>\n",
              "      <td>...</td>\n",
              "      <td>...</td>\n",
              "      <td>...</td>\n",
              "      <td>...</td>\n",
              "      <td>...</td>\n",
              "      <td>...</td>\n",
              "      <td>...</td>\n",
              "      <td>...</td>\n",
              "      <td>...</td>\n",
              "      <td>...</td>\n",
              "      <td>...</td>\n",
              "      <td>...</td>\n",
              "    </tr>\n",
              "    <tr>\n",
              "      <th>346</th>\n",
              "      <td>1</td>\n",
              "      <td>0</td>\n",
              "      <td>0.83508</td>\n",
              "      <td>0.08298</td>\n",
              "      <td>0.73739</td>\n",
              "      <td>-0.14706</td>\n",
              "      <td>0.84349</td>\n",
              "      <td>-0.05567</td>\n",
              "      <td>0.90441</td>\n",
              "      <td>-0.04622</td>\n",
              "      <td>...</td>\n",
              "      <td>-0.04202</td>\n",
              "      <td>0.83479</td>\n",
              "      <td>0.00123</td>\n",
              "      <td>1.00000</td>\n",
              "      <td>0.12815</td>\n",
              "      <td>0.86660</td>\n",
              "      <td>-0.10714</td>\n",
              "      <td>0.90546</td>\n",
              "      <td>-0.04307</td>\n",
              "      <td>g</td>\n",
              "    </tr>\n",
              "    <tr>\n",
              "      <th>347</th>\n",
              "      <td>1</td>\n",
              "      <td>0</td>\n",
              "      <td>0.95113</td>\n",
              "      <td>0.00419</td>\n",
              "      <td>0.95183</td>\n",
              "      <td>-0.02723</td>\n",
              "      <td>0.93438</td>\n",
              "      <td>-0.01920</td>\n",
              "      <td>0.94590</td>\n",
              "      <td>0.01606</td>\n",
              "      <td>...</td>\n",
              "      <td>0.01361</td>\n",
              "      <td>0.93522</td>\n",
              "      <td>0.04925</td>\n",
              "      <td>0.93159</td>\n",
              "      <td>0.08168</td>\n",
              "      <td>0.94066</td>\n",
              "      <td>-0.00035</td>\n",
              "      <td>0.91483</td>\n",
              "      <td>0.04712</td>\n",
              "      <td>g</td>\n",
              "    </tr>\n",
              "    <tr>\n",
              "      <th>348</th>\n",
              "      <td>1</td>\n",
              "      <td>0</td>\n",
              "      <td>0.94701</td>\n",
              "      <td>-0.00034</td>\n",
              "      <td>0.93207</td>\n",
              "      <td>-0.03227</td>\n",
              "      <td>0.95177</td>\n",
              "      <td>-0.03431</td>\n",
              "      <td>0.95584</td>\n",
              "      <td>0.02446</td>\n",
              "      <td>...</td>\n",
              "      <td>0.03193</td>\n",
              "      <td>0.92489</td>\n",
              "      <td>0.02542</td>\n",
              "      <td>0.92120</td>\n",
              "      <td>0.02242</td>\n",
              "      <td>0.92459</td>\n",
              "      <td>0.00442</td>\n",
              "      <td>0.92697</td>\n",
              "      <td>-0.00577</td>\n",
              "      <td>g</td>\n",
              "    </tr>\n",
              "    <tr>\n",
              "      <th>349</th>\n",
              "      <td>1</td>\n",
              "      <td>0</td>\n",
              "      <td>0.90608</td>\n",
              "      <td>-0.01657</td>\n",
              "      <td>0.98122</td>\n",
              "      <td>-0.01989</td>\n",
              "      <td>0.95691</td>\n",
              "      <td>-0.03646</td>\n",
              "      <td>0.85746</td>\n",
              "      <td>0.00110</td>\n",
              "      <td>...</td>\n",
              "      <td>-0.02099</td>\n",
              "      <td>0.89147</td>\n",
              "      <td>-0.07760</td>\n",
              "      <td>0.82983</td>\n",
              "      <td>-0.17238</td>\n",
              "      <td>0.96022</td>\n",
              "      <td>-0.03757</td>\n",
              "      <td>0.87403</td>\n",
              "      <td>-0.16243</td>\n",
              "      <td>g</td>\n",
              "    </tr>\n",
              "    <tr>\n",
              "      <th>350</th>\n",
              "      <td>1</td>\n",
              "      <td>0</td>\n",
              "      <td>0.84710</td>\n",
              "      <td>0.13533</td>\n",
              "      <td>0.73638</td>\n",
              "      <td>-0.06151</td>\n",
              "      <td>0.87873</td>\n",
              "      <td>0.08260</td>\n",
              "      <td>0.88928</td>\n",
              "      <td>-0.09139</td>\n",
              "      <td>...</td>\n",
              "      <td>-0.15114</td>\n",
              "      <td>0.81147</td>\n",
              "      <td>-0.04822</td>\n",
              "      <td>0.78207</td>\n",
              "      <td>-0.00703</td>\n",
              "      <td>0.75747</td>\n",
              "      <td>-0.06678</td>\n",
              "      <td>0.85764</td>\n",
              "      <td>-0.06151</td>\n",
              "      <td>g</td>\n",
              "    </tr>\n",
              "  </tbody>\n",
              "</table>\n",
              "<p>351 rows × 35 columns</p>\n",
              "</div>\n",
              "    <div class=\"colab-df-buttons\">\n",
              "\n",
              "  <div class=\"colab-df-container\">\n",
              "    <button class=\"colab-df-convert\" onclick=\"convertToInteractive('df-c63e2ecf-8bf6-4db3-8abd-3c5914f189c6')\"\n",
              "            title=\"Convert this dataframe to an interactive table.\"\n",
              "            style=\"display:none;\">\n",
              "\n",
              "  <svg xmlns=\"http://www.w3.org/2000/svg\" height=\"24px\" viewBox=\"0 -960 960 960\">\n",
              "    <path d=\"M120-120v-720h720v720H120Zm60-500h600v-160H180v160Zm220 220h160v-160H400v160Zm0 220h160v-160H400v160ZM180-400h160v-160H180v160Zm440 0h160v-160H620v160ZM180-180h160v-160H180v160Zm440 0h160v-160H620v160Z\"/>\n",
              "  </svg>\n",
              "    </button>\n",
              "\n",
              "  <style>\n",
              "    .colab-df-container {\n",
              "      display:flex;\n",
              "      gap: 12px;\n",
              "    }\n",
              "\n",
              "    .colab-df-convert {\n",
              "      background-color: #E8F0FE;\n",
              "      border: none;\n",
              "      border-radius: 50%;\n",
              "      cursor: pointer;\n",
              "      display: none;\n",
              "      fill: #1967D2;\n",
              "      height: 32px;\n",
              "      padding: 0 0 0 0;\n",
              "      width: 32px;\n",
              "    }\n",
              "\n",
              "    .colab-df-convert:hover {\n",
              "      background-color: #E2EBFA;\n",
              "      box-shadow: 0px 1px 2px rgba(60, 64, 67, 0.3), 0px 1px 3px 1px rgba(60, 64, 67, 0.15);\n",
              "      fill: #174EA6;\n",
              "    }\n",
              "\n",
              "    .colab-df-buttons div {\n",
              "      margin-bottom: 4px;\n",
              "    }\n",
              "\n",
              "    [theme=dark] .colab-df-convert {\n",
              "      background-color: #3B4455;\n",
              "      fill: #D2E3FC;\n",
              "    }\n",
              "\n",
              "    [theme=dark] .colab-df-convert:hover {\n",
              "      background-color: #434B5C;\n",
              "      box-shadow: 0px 1px 3px 1px rgba(0, 0, 0, 0.15);\n",
              "      filter: drop-shadow(0px 1px 2px rgba(0, 0, 0, 0.3));\n",
              "      fill: #FFFFFF;\n",
              "    }\n",
              "  </style>\n",
              "\n",
              "    <script>\n",
              "      const buttonEl =\n",
              "        document.querySelector('#df-c63e2ecf-8bf6-4db3-8abd-3c5914f189c6 button.colab-df-convert');\n",
              "      buttonEl.style.display =\n",
              "        google.colab.kernel.accessAllowed ? 'block' : 'none';\n",
              "\n",
              "      async function convertToInteractive(key) {\n",
              "        const element = document.querySelector('#df-c63e2ecf-8bf6-4db3-8abd-3c5914f189c6');\n",
              "        const dataTable =\n",
              "          await google.colab.kernel.invokeFunction('convertToInteractive',\n",
              "                                                    [key], {});\n",
              "        if (!dataTable) return;\n",
              "\n",
              "        const docLinkHtml = 'Like what you see? Visit the ' +\n",
              "          '<a target=\"_blank\" href=https://colab.research.google.com/notebooks/data_table.ipynb>data table notebook</a>'\n",
              "          + ' to learn more about interactive tables.';\n",
              "        element.innerHTML = '';\n",
              "        dataTable['output_type'] = 'display_data';\n",
              "        await google.colab.output.renderOutput(dataTable, element);\n",
              "        const docLink = document.createElement('div');\n",
              "        docLink.innerHTML = docLinkHtml;\n",
              "        element.appendChild(docLink);\n",
              "      }\n",
              "    </script>\n",
              "  </div>\n",
              "\n",
              "\n",
              "<div id=\"df-c74181fe-b557-4032-89b9-566820a8cf54\">\n",
              "  <button class=\"colab-df-quickchart\" onclick=\"quickchart('df-c74181fe-b557-4032-89b9-566820a8cf54')\"\n",
              "            title=\"Suggest charts.\"\n",
              "            style=\"display:none;\">\n",
              "\n",
              "<svg xmlns=\"http://www.w3.org/2000/svg\" height=\"24px\"viewBox=\"0 0 24 24\"\n",
              "     width=\"24px\">\n",
              "    <g>\n",
              "        <path d=\"M19 3H5c-1.1 0-2 .9-2 2v14c0 1.1.9 2 2 2h14c1.1 0 2-.9 2-2V5c0-1.1-.9-2-2-2zM9 17H7v-7h2v7zm4 0h-2V7h2v10zm4 0h-2v-4h2v4z\"/>\n",
              "    </g>\n",
              "</svg>\n",
              "  </button>\n",
              "\n",
              "<style>\n",
              "  .colab-df-quickchart {\n",
              "      --bg-color: #E8F0FE;\n",
              "      --fill-color: #1967D2;\n",
              "      --hover-bg-color: #E2EBFA;\n",
              "      --hover-fill-color: #174EA6;\n",
              "      --disabled-fill-color: #AAA;\n",
              "      --disabled-bg-color: #DDD;\n",
              "  }\n",
              "\n",
              "  [theme=dark] .colab-df-quickchart {\n",
              "      --bg-color: #3B4455;\n",
              "      --fill-color: #D2E3FC;\n",
              "      --hover-bg-color: #434B5C;\n",
              "      --hover-fill-color: #FFFFFF;\n",
              "      --disabled-bg-color: #3B4455;\n",
              "      --disabled-fill-color: #666;\n",
              "  }\n",
              "\n",
              "  .colab-df-quickchart {\n",
              "    background-color: var(--bg-color);\n",
              "    border: none;\n",
              "    border-radius: 50%;\n",
              "    cursor: pointer;\n",
              "    display: none;\n",
              "    fill: var(--fill-color);\n",
              "    height: 32px;\n",
              "    padding: 0;\n",
              "    width: 32px;\n",
              "  }\n",
              "\n",
              "  .colab-df-quickchart:hover {\n",
              "    background-color: var(--hover-bg-color);\n",
              "    box-shadow: 0 1px 2px rgba(60, 64, 67, 0.3), 0 1px 3px 1px rgba(60, 64, 67, 0.15);\n",
              "    fill: var(--button-hover-fill-color);\n",
              "  }\n",
              "\n",
              "  .colab-df-quickchart-complete:disabled,\n",
              "  .colab-df-quickchart-complete:disabled:hover {\n",
              "    background-color: var(--disabled-bg-color);\n",
              "    fill: var(--disabled-fill-color);\n",
              "    box-shadow: none;\n",
              "  }\n",
              "\n",
              "  .colab-df-spinner {\n",
              "    border: 2px solid var(--fill-color);\n",
              "    border-color: transparent;\n",
              "    border-bottom-color: var(--fill-color);\n",
              "    animation:\n",
              "      spin 1s steps(1) infinite;\n",
              "  }\n",
              "\n",
              "  @keyframes spin {\n",
              "    0% {\n",
              "      border-color: transparent;\n",
              "      border-bottom-color: var(--fill-color);\n",
              "      border-left-color: var(--fill-color);\n",
              "    }\n",
              "    20% {\n",
              "      border-color: transparent;\n",
              "      border-left-color: var(--fill-color);\n",
              "      border-top-color: var(--fill-color);\n",
              "    }\n",
              "    30% {\n",
              "      border-color: transparent;\n",
              "      border-left-color: var(--fill-color);\n",
              "      border-top-color: var(--fill-color);\n",
              "      border-right-color: var(--fill-color);\n",
              "    }\n",
              "    40% {\n",
              "      border-color: transparent;\n",
              "      border-right-color: var(--fill-color);\n",
              "      border-top-color: var(--fill-color);\n",
              "    }\n",
              "    60% {\n",
              "      border-color: transparent;\n",
              "      border-right-color: var(--fill-color);\n",
              "    }\n",
              "    80% {\n",
              "      border-color: transparent;\n",
              "      border-right-color: var(--fill-color);\n",
              "      border-bottom-color: var(--fill-color);\n",
              "    }\n",
              "    90% {\n",
              "      border-color: transparent;\n",
              "      border-bottom-color: var(--fill-color);\n",
              "    }\n",
              "  }\n",
              "</style>\n",
              "\n",
              "  <script>\n",
              "    async function quickchart(key) {\n",
              "      const quickchartButtonEl =\n",
              "        document.querySelector('#' + key + ' button');\n",
              "      quickchartButtonEl.disabled = true;  // To prevent multiple clicks.\n",
              "      quickchartButtonEl.classList.add('colab-df-spinner');\n",
              "      try {\n",
              "        const charts = await google.colab.kernel.invokeFunction(\n",
              "            'suggestCharts', [key], {});\n",
              "      } catch (error) {\n",
              "        console.error('Error during call to suggestCharts:', error);\n",
              "      }\n",
              "      quickchartButtonEl.classList.remove('colab-df-spinner');\n",
              "      quickchartButtonEl.classList.add('colab-df-quickchart-complete');\n",
              "    }\n",
              "    (() => {\n",
              "      let quickchartButtonEl =\n",
              "        document.querySelector('#df-c74181fe-b557-4032-89b9-566820a8cf54 button');\n",
              "      quickchartButtonEl.style.display =\n",
              "        google.colab.kernel.accessAllowed ? 'block' : 'none';\n",
              "    })();\n",
              "  </script>\n",
              "</div>\n",
              "    </div>\n",
              "  </div>\n"
            ]
          },
          "metadata": {},
          "execution_count": 160
        }
      ],
      "source": [
        "import pandas as pd\n",
        "from sklearn.model_selection import train_test_split\n",
        "from sklearn.neighbors import KNeighborsClassifier\n",
        "from sklearn.metrics import accuracy_score, precision_score, recall_score, confusion_matrix, f1_score\n",
        "from sklearn.feature_selection import VarianceThreshold\n",
        "from sklearn.decomposition import PCA\n",
        "import matplotlib.pyplot as plt\n",
        "import matplotlib.pylab as pylab\n",
        "\n",
        "# Carregando o conjunto de dados\n",
        "data = pd.read_csv(\"/datasets/ionosphere.data\", header = None)\n",
        "\n",
        "data"
      ]
    },
    {
      "cell_type": "code",
      "source": [
        "# Separando os dados de entrada (features) e o alvo (target)\n",
        "X = data.iloc[:, :-1]  # Todas as colunas, exceto a última\n",
        "y = data.iloc[:, -1]   # A última coluna\n",
        "\n",
        "# Mapeando 'b' para 0 e 'g' para 1 na coluna target\n",
        "y = y.map({'b': 0, 'g': 1})\n",
        "\n",
        "X_train, X_test, y_train, y_test = train_test_split(X, y, test_size=0.3, random_state=0)\n"
      ],
      "metadata": {
        "id": "pzYjc_VSlLWt"
      },
      "execution_count": null,
      "outputs": []
    },
    {
      "cell_type": "code",
      "source": [
        "# Definicao do numero de vizinhos de forma arbitraria\n",
        "k = 5"
      ],
      "metadata": {
        "id": "Uf5VIcMOlOs8"
      },
      "execution_count": null,
      "outputs": []
    },
    {
      "cell_type": "code",
      "source": [
        "# Criacao do modelo\n",
        "knn = KNeighborsClassifier(k)\n",
        "\n",
        "# Treinamento do modelo\n",
        "knn.fit(X_train,y_train)\n",
        "\n",
        "# Teste\n",
        "y_pred = knn.predict(X_test)\n",
        "\n",
        "acc = accuracy_score(y_test, y_pred)\n",
        "precision = precision_score(y_test, y_pred)\n",
        "recall = recall_score(y_test, y_pred)\n",
        "f1 = f1_score(y_test, y_pred)\n",
        "\n",
        "# Imprimindo as métricas\n",
        "print(f'Acurácia: {acc:.2f}')\n",
        "print(\"Resultado acurácia em %:\", round(acc,2)*100)\n",
        "print(f'Precisão: {precision:.2f}')\n",
        "print(\"Resultado precisão em %:\", round(precision,2)*100)\n",
        "print(f'Recall: {recall:.2f}')\n",
        "print(\"Resultado Recall em %:\", round(recall,2)*100)\n",
        "print(f'F1-Score: {f1:.2f}')\n",
        "print(\"Resultado F1-Score em %:\", round(f1,2)*100)\n"
      ],
      "metadata": {
        "id": "WzUUmNZelRQ9",
        "colab": {
          "base_uri": "https://localhost:8080/"
        },
        "outputId": "0cbdf655-46b8-4af0-a0a5-8fda17dbc4c3"
      },
      "execution_count": null,
      "outputs": [
        {
          "output_type": "stream",
          "name": "stdout",
          "text": [
            "Acurácia: 0.84\n",
            "Resultado acurácia em %: 84.0\n",
            "Precisão: 0.80\n",
            "Resultado precisão em %: 80.0\n",
            "Recall: 0.97\n",
            "Resultado Recall em %: 97.0\n",
            "F1-Score: 0.88\n",
            "Resultado F1-Score em %: 88.0\n"
          ]
        }
      ]
    },
    {
      "cell_type": "code",
      "source": [
        "# plota matriz de confusão\n",
        "conf_matrix = confusion_matrix(y_test, y_pred)\n",
        "plt.imshow(conf_matrix, cmap = 'Blues', interpolation = 'nearest')\n",
        "plt.title('Matriz de Confusão')\n",
        "plt.colorbar()\n",
        "plt.xticks([0, 1], ['Negativo', 'Positivo'])\n",
        "plt.yticks([0, 1], ['Negativo', 'Positivo'])\n",
        "plt.xlabel('Predito')\n",
        "plt.ylabel('Real')\n",
        "for i, j in np.ndindex(conf_matrix.shape):\n",
        "    plt.text(j, i, conf_matrix[i, j], ha='center', va='center', color='white')\n",
        "plt.show()"
      ],
      "metadata": {
        "colab": {
          "base_uri": "https://localhost:8080/",
          "height": 472
        },
        "id": "t2wkmNEIPKNt",
        "outputId": "129f385b-1ae4-4cbd-aba4-58e2c2a683a0"
      },
      "execution_count": null,
      "outputs": [
        {
          "output_type": "display_data",
          "data": {
            "text/plain": [
              "<Figure size 640x480 with 2 Axes>"
            ],
            "image/png": "[encoded data removed]"
          },
          "metadata": {}
        }
      ]
    },
    {
      "cell_type": "markdown",
      "source": [
        "**Repetindo todo o processo utilizando o método de Seleção de Features por limiar de variância, considerando o limiar de 35%**"
      ],
      "metadata": {
        "id": "T-3mL6IJPNqS"
      }
    },
    {
      "cell_type": "code",
      "source": [
        "# Carregando o conjunto de dados\n",
        "data = pd.read_csv(\"/datasets/ionosphere.data\", encoding='utf8', header=None)"
      ],
      "metadata": {
        "id": "bXdNqXQFalGM"
      },
      "execution_count": null,
      "outputs": []
    },
    {
      "cell_type": "markdown",
      "source": [
        "\n",
        "  *  Aplicando  método de **Seleção de Features por limiar de variância**.\n"
      ],
      "metadata": {
        "id": "kndL0cAApHsX"
      }
    },
    {
      "cell_type": "code",
      "source": [
        "# Separando os dados de entrada (features) e o alvo (target)\n",
        "X = data.iloc[:, :-1]\n",
        "y = data.iloc[:, -1]\n",
        "\n",
        "# Mapeando 'b' para 0 e 'g' para 1 na coluna target\n",
        "y = y.map({'b': 0, 'g': 1})\n",
        "\n",
        "# Estabelecendo o limiar de variância\n",
        "limiar_de_variancia = 0.35\n",
        "\n",
        "# Criando o modelo de seleção de features\n",
        "selecao = VarianceThreshold(threshold=limiar_de_variancia)\n",
        "\n",
        "# Selecionando as features\n",
        "features_selecionadas = selecao.fit_transform(X)\n",
        "\n",
        "print(\"Formato dos dados Originais:\", np.shape(X))\n",
        "print(\"Formato dos dados após a seleção de features:\", np.shape(features_selecionadas))\n",
        "\n",
        "X_train, X_test, y_train, y_test = train_test_split(features_selecionadas, y, test_size=0.3, random_state=0)"
      ],
      "metadata": {
        "colab": {
          "base_uri": "https://localhost:8080/"
        },
        "id": "Nn_FgxdjpIdT",
        "outputId": "94147c32-65c6-4d23-fc92-278c38072613"
      },
      "execution_count": null,
      "outputs": [
        {
          "output_type": "stream",
          "name": "stdout",
          "text": [
            "Formato dos dados Originais: (351, 34)\n",
            "Formato dos dados após a seleção de features: (351, 6)\n"
          ]
        }
      ]
    },
    {
      "cell_type": "code",
      "source": [
        "# Definicao do numero de vizinhos de forma arbitraria\n",
        "k = 5"
      ],
      "metadata": {
        "id": "XarRBNPKW__l"
      },
      "execution_count": null,
      "outputs": []
    },
    {
      "cell_type": "code",
      "source": [
        "# Criacao do modelo\n",
        "knn = KNeighborsClassifier(k)\n",
        "\n",
        "# Treinamento do modelo\n",
        "knn.fit(X_train,y_train)\n",
        "\n",
        "# Teste\n",
        "y_pred = knn.predict(X_test)\n",
        "\n",
        "# Métricas\n",
        "acc = accuracy_score(y_test, y_pred)\n",
        "precision = precision_score(y_test, y_pred)\n",
        "recall = recall_score(y_test, y_pred)\n",
        "f1 = f1_score(y_test, y_pred)\n",
        "\n",
        "# Imprimindo as métricas\n",
        "print(f'Acurácia: {acc:.2f}')\n",
        "print(\"Resultado acurácia em %:\", round(acc,2)*100)\n",
        "print(f'Precisão: {precision:.2f}')\n",
        "print(\"Resultado precisão em %:\", round(precision,2)*100)\n",
        "print(f'Recall: {recall:.2f}')\n",
        "print(\"Resultado Recall em %:\", round(recall,2)*100)\n",
        "print(f'F1-Score: {f1:.2f}')\n",
        "print(\"Resultado F1-Score em %:\", round(f1,2)*100)"
      ],
      "metadata": {
        "colab": {
          "base_uri": "https://localhost:8080/"
        },
        "id": "rdBo-Lozdvp8",
        "outputId": "35a52294-8dc8-4c42-caff-f1c32df6af2c"
      },
      "execution_count": null,
      "outputs": [
        {
          "output_type": "stream",
          "name": "stdout",
          "text": [
            "Acurácia: 0.81\n",
            "Resultado acurácia em %: 81.0\n",
            "Precisão: 0.78\n",
            "Resultado precisão em %: 78.0\n",
            "Recall: 0.95\n",
            "Resultado Recall em %: 95.0\n",
            "F1-Score: 0.86\n",
            "Resultado F1-Score em %: 86.0\n"
          ]
        }
      ]
    },
    {
      "cell_type": "code",
      "source": [
        "# plota matriz de confusão\n",
        "conf_matrix = confusion_matrix(y_test, y_pred)\n",
        "plt.imshow(conf_matrix, cmap = 'Blues', interpolation = 'nearest')\n",
        "plt.title('Matriz de Confusão')\n",
        "plt.colorbar()\n",
        "plt.xticks([0, 1], ['Negativo', 'Positivo'])\n",
        "plt.yticks([0, 1], ['Negativo', 'Positivo'])\n",
        "plt.xlabel('Predito')\n",
        "plt.ylabel('Real')\n",
        "for i, j in np.ndindex(conf_matrix.shape):\n",
        "    plt.text(j, i, conf_matrix[i, j], ha='center', va='center', color='white')\n",
        "plt.show()"
      ],
      "metadata": {
        "colab": {
          "base_uri": "https://localhost:8080/",
          "height": 472
        },
        "id": "QVjBp4nkdv1g",
        "outputId": "32f208f2-5b7c-44fb-b4a6-0aaf9a6becfd"
      },
      "execution_count": null,
      "outputs": [
        {
          "output_type": "display_data",
          "data": {
            "text/plain": [
              "<Figure size 640x480 with 2 Axes>"
            ],
            "image/png": "[encoded data removed]"
          },
          "metadata": {}
        }
      ]
    },
    {
      "cell_type": "markdown",
      "source": [
        "**Repindo todo o processo utilizando o método de Extração de Features por Análise de Componentes Principais (PCA), considerando a porcentagem de informação a ser mantida no prolema de 85%.**"
      ],
      "metadata": {
        "id": "GAIjJS1SPas6"
      }
    },
    {
      "cell_type": "code",
      "source": [
        "# Carregando o conjunto de dados\n",
        "data = pd.read_csv(\"/datasets/ionosphere.data\", encoding='utf8', header=None)"
      ],
      "metadata": {
        "id": "2mY9_j2kes4M"
      },
      "execution_count": null,
      "outputs": []
    },
    {
      "cell_type": "markdown",
      "source": [
        "*  Aplicando método de **Extração de Features por Análise de Componentes Principais (PCA).**\n"
      ],
      "metadata": {
        "id": "Dy4aYRk-qDTS"
      }
    },
    {
      "cell_type": "code",
      "source": [
        "# Separando os dados de entrada (features) e o alvo (target)\n",
        "X = data.iloc[:, :-1]\n",
        "y = data.iloc[:, -1]\n",
        "\n",
        "# Mapeando 'b' para 0 e 'g' para 1 na coluna target\n",
        "y = y.map({'b': 0, 'g': 1})\n",
        "\n",
        "# Criando o modelo através de um número definido de componentes principais\n",
        "pca = PCA(n_components = 0.85)\n",
        "\n",
        "# Aplicando a PCA\n",
        "P = pca.fit_transform(X)\n",
        "\n",
        "print(P)\n",
        "\n",
        "X_train, X_test, y_train, y_test = train_test_split(P, y, test_size=0.3, random_state=0)"
      ],
      "metadata": {
        "colab": {
          "base_uri": "https://localhost:8080/"
        },
        "id": "1pdQxQ3GejGx",
        "outputId": "6a80431e-db81-4ffc-e070-04ee7962267b"
      },
      "execution_count": null,
      "outputs": [
        {
          "output_type": "stream",
          "name": "stdout",
          "text": [
            "[[-8.59332860e-01 -9.61406757e-01 -5.86082357e-01 ... -2.20153653e-01\n",
            "  -5.97801527e-02  2.20999195e-01]\n",
            " [ 7.65524410e-01 -1.06271411e+00 -1.39733865e+00 ... -3.10716437e-01\n",
            "   4.21973385e-02  3.73263689e-01]\n",
            " [-1.11681736e+00 -3.92255939e-01  7.98828031e-03 ...  5.08177609e-03\n",
            "  -1.26084501e-01  7.63168548e-02]\n",
            " ...\n",
            " [-2.00968648e+00  7.02142791e-03  3.45603502e-01 ...  2.02097514e-02\n",
            "   1.44435820e-03 -2.71935018e-02]\n",
            " [-1.87850608e+00 -2.58263391e-01  2.79973413e-01 ... -4.80431587e-03\n",
            "  -9.00198385e-02 -5.09193423e-02]\n",
            " [-1.54878315e+00 -1.87526433e-01  2.17570815e-01 ...  1.00494072e-01\n",
            "  -1.09900783e-01  3.83997994e-02]]\n"
          ]
        }
      ]
    },
    {
      "cell_type": "code",
      "source": [
        "# Definicao do numero de vizinhos de forma arbitraria\n",
        "k = 5"
      ],
      "metadata": {
        "id": "_pp4hUIPfk0f"
      },
      "execution_count": null,
      "outputs": []
    },
    {
      "cell_type": "code",
      "source": [
        "# Criacao do modelo\n",
        "knn = KNeighborsClassifier(k)\n",
        "\n",
        "# Treinamento do modelo\n",
        "knn.fit(X_train,y_train)\n",
        "\n",
        "# Teste\n",
        "y_pred = knn.predict(X_test)\n",
        "\n",
        "# Métricas\n",
        "acc = accuracy_score(y_test, y_pred)\n",
        "precision = precision_score(y_test, y_pred)\n",
        "recall = recall_score(y_test, y_pred)\n",
        "f1 = f1_score(y_test, y_pred)\n",
        "\n",
        "# Imprimindo as métricas\n",
        "print(f'Acurácia: {acc:.2f}')\n",
        "print(\"Resultado acurácia em %:\", round(acc,2)*100)\n",
        "print(f'Precisão: {precision:.2f}')\n",
        "print(\"Resultado precisão em %:\", round(precision,2)*100)\n",
        "print(f'Recall: {recall:.2f}')\n",
        "print(\"Resultado Recall em %:\", round(recall,2)*100)\n",
        "print(f'F1-Score: {f1:.2f}')\n",
        "print(\"Resultado F1-Score em %:\", round(f1,2)*100)"
      ],
      "metadata": {
        "colab": {
          "base_uri": "https://localhost:8080/"
        },
        "id": "usXgoRf0fxuI",
        "outputId": "1e29fa3e-f801-4b27-e5db-ed24de8894c8"
      },
      "execution_count": null,
      "outputs": [
        {
          "output_type": "stream",
          "name": "stdout",
          "text": [
            "Acurácia: 0.87\n",
            "Resultado acurácia em %: 87.0\n",
            "Precisão: 0.83\n",
            "Resultado precisão em %: 83.0\n",
            "Recall: 0.97\n",
            "Resultado Recall em %: 97.0\n",
            "F1-Score: 0.90\n",
            "Resultado F1-Score em %: 90.0\n"
          ]
        }
      ]
    },
    {
      "cell_type": "code",
      "source": [
        "# plota matriz de confusão\n",
        "conf_matrix = confusion_matrix(y_test, y_pred)\n",
        "plt.imshow(conf_matrix, cmap = 'Blues', interpolation = 'nearest')\n",
        "plt.title('Matriz de Confusão')\n",
        "plt.colorbar()\n",
        "plt.xticks([0, 1], ['Negativo', 'Positivo'])\n",
        "plt.yticks([0, 1], ['Negativo', 'Positivo'])\n",
        "plt.xlabel('Predito')\n",
        "plt.ylabel('Real')\n",
        "for i, j in np.ndindex(conf_matrix.shape):\n",
        "    plt.text(j, i, conf_matrix[i, j], ha='center', va='center', color='white')\n",
        "plt.show()"
      ],
      "metadata": {
        "colab": {
          "base_uri": "https://localhost:8080/",
          "height": 472
        },
        "id": "uOh7H0JQf3X1",
        "outputId": "c3ea6ef1-b9d4-4d06-a606-91dd39185cd0"
      },
      "execution_count": null,
      "outputs": [
        {
          "output_type": "display_data",
          "data": {
            "text/plain": [
              "<Figure size 640x480 with 2 Axes>"
            ],
            "image/png": "[encoded data removed]"
          },
          "metadata": {}
        }
      ]
    },
    {
      "cell_type": "markdown",
      "source": [
        "**Comparação dos resultados obtidos**"
      ],
      "metadata": {
        "id": "4ZFYrVXVPjWg"
      }
    },
    {
      "cell_type": "markdown",
      "source": [
        "A quantidade de informações mantidas no conjunto de dados, por meio das abordagens de engenharia de features, tem um impacto direto no desempenho do modelo. Isso significa que essas abordagens podem tanto melhorar quanto piorar o desempenho do modelo, dependendo do que é definido em termos de quais características são mantidas ou extraídas.\n",
        "\n",
        "Em relação a **Seleção de Features por Limiar de Variância**, por manter apenas as características que têm uma variância acima de um limiar especificado, pode ser útil para eliminar características com pouca variação, que podem não contribuir significativamente para a tarefa de classificação. Ela é  é especialmente útil quando se suspeita que algumas características não são informativas para a tarefa de classificação, e sua remoção pode melhorar o desempenho do modelo. No entanto, deve ser usada com cautela, pois a escolha inadequada do limiar pode resultar na perda de informações relevantes.\n",
        "\n",
        " - Ao utilizarmos este método, notamos uma queda no desempenho do modelo, que pode ter ocorrido justamente pela perda de características importantes no processo devido ao limiar escolhido.\n",
        "\n",
        "Já em relação a **Extração de Features por Análise de Componentes Principais (PCA)**, busca representar as características originais em um novo espaço de características de menor dimensão. Ele  reduz a complexidade do modelo, mantendo a maior parte da variância dos dados.\n",
        "\n",
        " - Já ao utilizarmos este método, observamos que o modelo teve um desempenho melhor, que pode ser atribuido justamente pela presenvação da variância de dados. Desta forma, reduziu a dimensionalidade enquanto tentou manter uma quantidade significativa de informação, ajudado a remover redundâncias nos dados e melhorar a generalização do modelo. Ressaltando ainda que apesar da porcentagem de variância indicada na literatura ser 95% a 99% e termos utilizado 85%."
      ],
      "metadata": {
        "id": "LNdypLk88TZ1"
      }
    }
  ]
}